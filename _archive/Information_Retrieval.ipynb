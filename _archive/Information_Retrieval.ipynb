{
 "cells": [
  {
   "cell_type": "markdown",
   "metadata": {},
   "source": [
    "# Simple IR System"
   ]
  },
  {
   "cell_type": "markdown",
   "metadata": {},
   "source": [
    "The following tasks have to be accomplished in order to build a simple IR system\n",
    "\n",
    "## Data Collection\n",
    "\n",
    "The NLTK package includes a nice list of documents that can be loaded."
   ]
  },
  {
   "cell_type": "markdown",
   "metadata": {},
   "source": [
    "## Data Preprocessing\n",
    "In order to provide a common basis for information retrieval, in the following we have to execute some preprocessing steps.\n",
    "\n",
    "### Tokenisation\n",
    "\n",
    "With respect to tokenization, three options are available. \n",
    "1. Use integrated nltk tokens\n",
    "2. Create own simple tokenizer\n",
    "3. Implement tokenizer based on pos tags\n",
    "\n",
    "For the beginning, we just use the integrated tokenizer and use the provided documents as is. \n",
    "\n",
    "### Casefolding\n",
    "\n",
    "Casefolding tries to create a common case for all documents. Basically there are two options:\n",
    "1. tolower() - which simply translates all capital case letters to lower case\n",
    "2. casefold() - which also translates common letters \n"
   ]
  },
  {
   "cell_type": "code",
   "execution_count": 1,
   "metadata": {},
   "outputs": [
    {
     "name": "stderr",
     "output_type": "stream",
     "text": [
      "[nltk_data] Downloading package gutenberg to /Users/bekal/nltk_data...\n",
      "[nltk_data]   Package gutenberg is already up-to-date!\n",
      "[nltk_data] Downloading package stopwords to /Users/bekal/nltk_data...\n",
      "[nltk_data]   Package stopwords is already up-to-date!\n"
     ]
    },
    {
     "data": {
      "text/plain": [
       "True"
      ]
     },
     "execution_count": 1,
     "metadata": {},
     "output_type": "execute_result"
    }
   ],
   "source": [
    "import nltk\n",
    "\n",
    "# download all necessary corpora to current directory\n",
    "nltk.download([\"gutenberg\", \"stopwords\"])"
   ]
  },
  {
   "cell_type": "code",
   "execution_count": 2,
   "metadata": {},
   "outputs": [
    {
     "name": "stdout",
     "output_type": "stream",
     "text": [
      "list of files:\n"
     ]
    },
    {
     "data": {
      "text/plain": [
       "['austen-emma.txt',\n",
       " 'austen-persuasion.txt',\n",
       " 'austen-sense.txt',\n",
       " 'bible-kjv.txt',\n",
       " 'blake-poems.txt',\n",
       " 'bryant-stories.txt',\n",
       " 'burgess-busterbrown.txt',\n",
       " 'carroll-alice.txt',\n",
       " 'chesterton-ball.txt',\n",
       " 'chesterton-brown.txt',\n",
       " 'chesterton-thursday.txt',\n",
       " 'edgeworth-parents.txt',\n",
       " 'melville-moby_dick.txt',\n",
       " 'milton-paradise.txt',\n",
       " 'shakespeare-caesar.txt',\n",
       " 'shakespeare-hamlet.txt',\n",
       " 'shakespeare-macbeth.txt',\n",
       " 'whitman-leaves.txt']"
      ]
     },
     "execution_count": 2,
     "metadata": {},
     "output_type": "execute_result"
    }
   ],
   "source": [
    "\n",
    "# get a list of all files in corpus\n",
    "ids = nltk.corpus.gutenberg.fileids()\n",
    "\n",
    "# load all files from gutenberg corpus\n",
    "def load_corpus():\n",
    "    return [nltk.corpus.gutenberg.words(id) for id in ids]\n",
    "\n",
    "print(\"list of files:\")\n",
    "ids"
   ]
  },
  {
   "cell_type": "code",
   "execution_count": 3,
   "metadata": {},
   "outputs": [
    {
     "name": "stdout",
     "output_type": "stream",
     "text": [
      "before casefolding: This is a Test TexT For Casefolding with SpeciAl cHARACTERS\n",
      "after  casefolding: this is a test text for casefolding with special characters\n"
     ]
    }
   ],
   "source": [
    "# casefold each word in file\n",
    "def casefold_file(file):\n",
    "    return [word.casefold() for word in file]\n",
    "\n",
    "# Test \n",
    "testText = \"This is a Test TexT For Casefolding with SpeciAl cHARACTERS\"\n",
    "\n",
    "testList = testText.split()\n",
    "cf_testfile = casefold_file(testList)\n",
    "\n",
    "print(\"before casefolding:\", testText)\n",
    "print(\"after  casefolding:\", ' '.join(cf_testfile))"
   ]
  },
  {
   "cell_type": "code",
   "execution_count": 4,
   "metadata": {},
   "outputs": [],
   "source": [
    "\"\"\"\n",
    "unction that caseFolds text\n",
    "\n",
    "\"\"\"\n",
    "def casefold_corpus(corpus):\n",
    "    return [casefold_file(file) for file in corpus]"
   ]
  },
  {
   "cell_type": "markdown",
   "metadata": {},
   "source": [
    "## Normalisation\n",
    "\n",
    "\n",
    "- assuming special characters are not helpful for the query, we need to remove them. \n",
    "- remove special characters that do not contribute much to the search\n",
    "- we can use a regular expression `re` to remove texts that have specific patterns.\n",
    "- we can easily define regular expression formulas to remove specific set of characters from text. "
   ]
  },
  {
   "cell_type": "code",
   "execution_count": 5,
   "metadata": {},
   "outputs": [
    {
     "name": "stdout",
     "output_type": "stream",
     "text": [
      "text before cleaning: ! this, is a :;-_!) test sentence\n",
      "text after  cleaning:  this is a  test sentence\n"
     ]
    }
   ],
   "source": [
    "import re\n",
    "# regular expression pattern to remove special characters and empty space\n",
    "characters_to_remove = \"[\\[\\]\\(\\){},.!\\?;:\\-_'\\\"]\"\n",
    "\n",
    "\n",
    "\"\"\"\n",
    "Iterate over files & clean - remove empty strings & special characters\n",
    "\n",
    "\"\"\"\n",
    "def clean_file(file, removelist):\n",
    "    return [token for token in [re.sub(removelist,'',word) for word in file] \n",
    "            if token != '']\n",
    "\n",
    "# test  \n",
    "testText = \"! this, is a :;-_!) test sentence\"\n",
    "TestList = testText.split()\n",
    "\n",
    "clean_text = clean_file(testText, characters_to_remove)\n",
    "\n",
    "print(\"text before cleaning:\", testText)\n",
    "print(\"text after  cleaning:\", ''.join(clean_text))"
   ]
  },
  {
   "cell_type": "code",
   "execution_count": 6,
   "metadata": {},
   "outputs": [],
   "source": [
    "\n",
    "\"\"\" \n",
    "function: cleans files in the corpus ( collection of documents)\n",
    "\n",
    "\"\"\"\n",
    "\n",
    "def clean_corpus(files):\n",
    "    return [clean_file(file,characters_to_remove) for file in files]"
   ]
  },
  {
   "cell_type": "markdown",
   "metadata": {},
   "source": [
    "### Stop word removal\n",
    "\n",
    "- just like stop words assume stopwords like 'the', 'is', 'are', ...etc. do not have semantic value for for querying documents \n",
    "- hence remove stop words as well\n",
    "- a collection of stop words,for different languages, can be downloaded from nltk\n",
    "- removing the stop words helps to speed up our query\n",
    "- `Zip's law` shows that most of the words in a text are stop words"
   ]
  },
  {
   "cell_type": "code",
   "execution_count": 7,
   "metadata": {},
   "outputs": [
    {
     "name": "stdout",
     "output_type": "stream",
     "text": [
      "Before removing stopwords: This is a test text with some stop words that has to be removed by some means\n",
      "Before removing stopwords: This test text stop words removed means\n"
     ]
    }
   ],
   "source": [
    "stopwords_en = nltk.corpus.stopwords.words(\"english\")\n",
    "\n",
    "# select words that are not in the stopword list\n",
    "\n",
    "def filter_words(file, wordlist):\n",
    "   result = []\n",
    "   for word in file:\n",
    "       if not word in wordlist:\n",
    "           result.append(word)\n",
    "   return result\n",
    "\n",
    "# test implementation\n",
    "testText_stopwords = \"This is a test text with some stop words that has to be removed by some means\"\n",
    "testText_stopwords_LS = testText_stopwords.split()\n",
    "\n",
    "text_after_stopWord = filter_words(testText_stopwords_LS, stopwords_en)\n",
    "\n",
    "\n",
    "print(\"Before removing stopwords:\", testText_stopwords)\n",
    "print(\"Before removing stopwords:\", ' '.join(text_after_stopWord))"
   ]
  },
  {
   "cell_type": "code",
   "execution_count": 8,
   "metadata": {},
   "outputs": [],
   "source": [
    "# removes all stop words from the entire corpus\n",
    "def remove_stopwords_corpus(corpus):\n",
    "    return[filter_words(file, stopwords_en) for file in corpus]"
   ]
  },
  {
   "cell_type": "markdown",
   "metadata": {},
   "source": [
    "### Stemming\n",
    "\n",
    "\n",
    "- stemming keeps the root of the word\n",
    "- for the serach query a word and its variation should not make much difference\n",
    "- e.g. the words: `Test`, `testing`, `tested` will just be chnaged to to `test`, but the frequency is kept\n",
    "- there are different kinds of stemmers: we an use porter's stemmer"
   ]
  },
  {
   "cell_type": "code",
   "execution_count": 9,
   "metadata": {},
   "outputs": [
    {
     "name": "stdout",
     "output_type": "stream",
     "text": [
      "before stemming: Test testing tests tested are all variations of Test\n",
      "after  stemming: test test test test are all variat of test\n"
     ]
    }
   ],
   "source": [
    "# Use Porter's stemmer to stem all tokens in all files\n",
    "ps = nltk.stem.PorterStemmer()\n",
    "\n",
    "# stems all words in a file\n",
    "def stem_file(file):\n",
    "    return [ps.stem(token) for token in file]\n",
    "\n",
    "# test the implementation\n",
    "testfile = \"Test testing tests tested are all variations of Test\"\n",
    "testfile_ls = testfile.split()\n",
    "\n",
    "st_testfile = stem_file(testfile_ls)\n",
    "\n",
    "print(\"before stemming:\", testfile)\n",
    "print(\"after  stemming:\", ' '.join(st_testfile))"
   ]
  },
  {
   "cell_type": "code",
   "execution_count": 10,
   "metadata": {},
   "outputs": [],
   "source": [
    "def stem_corpus(corpus):\n",
    "    return [stem_file(file) for file in corpus]"
   ]
  },
  {
   "cell_type": "markdown",
   "metadata": {},
   "source": [
    "## Prepare the Corpus for IR\n",
    "\n",
    "`toknization` - nltk tokens \n",
    "\n",
    "#### custom functions \n",
    "\n",
    "`casefold_corpus` \n",
    "`clean_corpus`\n",
    "`remove_stopwords_corpus`\n",
    "`stem_corpus`\n",
    "\n",
    "\n",
    "- using the above list of functions, we can now clean and prepare the texts"
   ]
  },
  {
   "cell_type": "code",
   "execution_count": 11,
   "metadata": {},
   "outputs": [
    {
     "name": "stdout",
     "output_type": "stream",
     "text": [
      "the document after cleaning: \n",
      "\n"
     ]
    },
    {
     "data": {
      "text/html": [
       "<div>\n",
       "<style scoped>\n",
       "    .dataframe tbody tr th:only-of-type {\n",
       "        vertical-align: middle;\n",
       "    }\n",
       "\n",
       "    .dataframe tbody tr th {\n",
       "        vertical-align: top;\n",
       "    }\n",
       "\n",
       "    .dataframe thead th {\n",
       "        text-align: right;\n",
       "    }\n",
       "</style>\n",
       "<table border=\"1\" class=\"dataframe\">\n",
       "  <thead>\n",
       "    <tr style=\"text-align: right;\">\n",
       "      <th></th>\n",
       "      <th>austen-emma.txt</th>\n",
       "      <th>austen-persuasion.txt</th>\n",
       "      <th>austen-sense.txt</th>\n",
       "      <th>bible-kjv.txt</th>\n",
       "      <th>blake-poems.txt</th>\n",
       "      <th>bryant-stories.txt</th>\n",
       "      <th>burgess-busterbrown.txt</th>\n",
       "      <th>carroll-alice.txt</th>\n",
       "      <th>chesterton-ball.txt</th>\n",
       "      <th>chesterton-brown.txt</th>\n",
       "      <th>chesterton-thursday.txt</th>\n",
       "      <th>edgeworth-parents.txt</th>\n",
       "      <th>melville-moby_dick.txt</th>\n",
       "      <th>milton-paradise.txt</th>\n",
       "      <th>shakespeare-caesar.txt</th>\n",
       "      <th>shakespeare-hamlet.txt</th>\n",
       "      <th>shakespeare-macbeth.txt</th>\n",
       "      <th>whitman-leaves.txt</th>\n",
       "    </tr>\n",
       "  </thead>\n",
       "  <tbody>\n",
       "    <tr>\n",
       "      <th>raw</th>\n",
       "      <td>192427 / 7811</td>\n",
       "      <td>98171 / 6132</td>\n",
       "      <td>141576 / 6833</td>\n",
       "      <td>1010654 / 13769</td>\n",
       "      <td>8354 / 1820</td>\n",
       "      <td>55563 / 4420</td>\n",
       "      <td>18963 / 1764</td>\n",
       "      <td>34110 / 3016</td>\n",
       "      <td>96996 / 8947</td>\n",
       "      <td>86063 / 8299</td>\n",
       "      <td>69213 / 6807</td>\n",
       "      <td>210663 / 9593</td>\n",
       "      <td>260819 / 19317</td>\n",
       "      <td>96825 / 10751</td>\n",
       "      <td>25833 / 3560</td>\n",
       "      <td>37360 / 5447</td>\n",
       "      <td>23140 / 4017</td>\n",
       "      <td>154883 / 14329</td>\n",
       "    </tr>\n",
       "    <tr>\n",
       "      <th>case</th>\n",
       "      <td>192427 / 7344</td>\n",
       "      <td>98171 / 5835</td>\n",
       "      <td>141576 / 6403</td>\n",
       "      <td>1010654 / 12767</td>\n",
       "      <td>8354 / 1535</td>\n",
       "      <td>55563 / 3940</td>\n",
       "      <td>18963 / 1559</td>\n",
       "      <td>34110 / 2636</td>\n",
       "      <td>96996 / 8335</td>\n",
       "      <td>86063 / 7794</td>\n",
       "      <td>69213 / 6349</td>\n",
       "      <td>210663 / 8447</td>\n",
       "      <td>260819 / 17231</td>\n",
       "      <td>96825 / 9021</td>\n",
       "      <td>25833 / 3032</td>\n",
       "      <td>37360 / 4716</td>\n",
       "      <td>23140 / 3464</td>\n",
       "      <td>154883 / 12452</td>\n",
       "    </tr>\n",
       "    <tr>\n",
       "      <th>clean</th>\n",
       "      <td>162095 / 7105</td>\n",
       "      <td>84201 / 5779</td>\n",
       "      <td>120795 / 6339</td>\n",
       "      <td>854046 / 12744</td>\n",
       "      <td>6953 / 1513</td>\n",
       "      <td>46715 / 3838</td>\n",
       "      <td>16359 / 1527</td>\n",
       "      <td>27396 / 2571</td>\n",
       "      <td>82938 / 8246</td>\n",
       "      <td>73355 / 7740</td>\n",
       "      <td>58732 / 6306</td>\n",
       "      <td>170879 / 8345</td>\n",
       "      <td>218668 / 17142</td>\n",
       "      <td>80509 / 8982</td>\n",
       "      <td>20881 / 3020</td>\n",
       "      <td>30296 / 4702</td>\n",
       "      <td>18370 / 3452</td>\n",
       "      <td>126606 / 12406</td>\n",
       "    </tr>\n",
       "    <tr>\n",
       "      <th>stop words</th>\n",
       "      <td>73412 / 6974</td>\n",
       "      <td>38417 / 5646</td>\n",
       "      <td>54048 / 6204</td>\n",
       "      <td>437149 / 12619</td>\n",
       "      <td>3824 / 1403</td>\n",
       "      <td>21790 / 3700</td>\n",
       "      <td>7594 / 1388</td>\n",
       "      <td>12301 / 2425</td>\n",
       "      <td>39937 / 8098</td>\n",
       "      <td>35417 / 7592</td>\n",
       "      <td>28336 / 6165</td>\n",
       "      <td>78273 / 8196</td>\n",
       "      <td>110766 / 16996</td>\n",
       "      <td>45584 / 8856</td>\n",
       "      <td>11135 / 2917</td>\n",
       "      <td>15928 / 4593</td>\n",
       "      <td>10176 / 3345</td>\n",
       "      <td>65410 / 12271</td>\n",
       "    </tr>\n",
       "    <tr>\n",
       "      <th>stemming</th>\n",
       "      <td>73412 / 4377</td>\n",
       "      <td>38417 / 3688</td>\n",
       "      <td>54048 / 3985</td>\n",
       "      <td>437149 / 9418</td>\n",
       "      <td>3824 / 1145</td>\n",
       "      <td>21790 / 2808</td>\n",
       "      <td>7594 / 1126</td>\n",
       "      <td>12301 / 1834</td>\n",
       "      <td>39937 / 5706</td>\n",
       "      <td>35417 / 5435</td>\n",
       "      <td>28336 / 4480</td>\n",
       "      <td>78273 / 5476</td>\n",
       "      <td>110766 / 10716</td>\n",
       "      <td>45584 / 6170</td>\n",
       "      <td>11135 / 2361</td>\n",
       "      <td>15928 / 3653</td>\n",
       "      <td>10176 / 2749</td>\n",
       "      <td>65410 / 8205</td>\n",
       "    </tr>\n",
       "  </tbody>\n",
       "</table>\n",
       "</div>"
      ],
      "text/plain": [
       "           austen-emma.txt austen-persuasion.txt austen-sense.txt  \\\n",
       "raw          192427 / 7811          98171 / 6132    141576 / 6833   \n",
       "case         192427 / 7344          98171 / 5835    141576 / 6403   \n",
       "clean        162095 / 7105          84201 / 5779    120795 / 6339   \n",
       "stop words    73412 / 6974          38417 / 5646     54048 / 6204   \n",
       "stemming      73412 / 4377          38417 / 3688     54048 / 3985   \n",
       "\n",
       "              bible-kjv.txt blake-poems.txt bryant-stories.txt  \\\n",
       "raw         1010654 / 13769     8354 / 1820       55563 / 4420   \n",
       "case        1010654 / 12767     8354 / 1535       55563 / 3940   \n",
       "clean        854046 / 12744     6953 / 1513       46715 / 3838   \n",
       "stop words   437149 / 12619     3824 / 1403       21790 / 3700   \n",
       "stemming      437149 / 9418     3824 / 1145       21790 / 2808   \n",
       "\n",
       "           burgess-busterbrown.txt carroll-alice.txt chesterton-ball.txt  \\\n",
       "raw                   18963 / 1764      34110 / 3016        96996 / 8947   \n",
       "case                  18963 / 1559      34110 / 2636        96996 / 8335   \n",
       "clean                 16359 / 1527      27396 / 2571        82938 / 8246   \n",
       "stop words             7594 / 1388      12301 / 2425        39937 / 8098   \n",
       "stemming               7594 / 1126      12301 / 1834        39937 / 5706   \n",
       "\n",
       "           chesterton-brown.txt chesterton-thursday.txt edgeworth-parents.txt  \\\n",
       "raw                86063 / 8299            69213 / 6807         210663 / 9593   \n",
       "case               86063 / 7794            69213 / 6349         210663 / 8447   \n",
       "clean              73355 / 7740            58732 / 6306         170879 / 8345   \n",
       "stop words         35417 / 7592            28336 / 6165          78273 / 8196   \n",
       "stemming           35417 / 5435            28336 / 4480          78273 / 5476   \n",
       "\n",
       "           melville-moby_dick.txt milton-paradise.txt shakespeare-caesar.txt  \\\n",
       "raw                260819 / 19317       96825 / 10751           25833 / 3560   \n",
       "case               260819 / 17231        96825 / 9021           25833 / 3032   \n",
       "clean              218668 / 17142        80509 / 8982           20881 / 3020   \n",
       "stop words         110766 / 16996        45584 / 8856           11135 / 2917   \n",
       "stemming           110766 / 10716        45584 / 6170           11135 / 2361   \n",
       "\n",
       "           shakespeare-hamlet.txt shakespeare-macbeth.txt whitman-leaves.txt  \n",
       "raw                  37360 / 5447            23140 / 4017     154883 / 14329  \n",
       "case                 37360 / 4716            23140 / 3464     154883 / 12452  \n",
       "clean                30296 / 4702            18370 / 3452     126606 / 12406  \n",
       "stop words           15928 / 4593            10176 / 3345      65410 / 12271  \n",
       "stemming             15928 / 3653            10176 / 2749       65410 / 8205  "
      ]
     },
     "execution_count": 11,
     "metadata": {},
     "output_type": "execute_result"
    }
   ],
   "source": [
    "# We use pandas here as it provides some nice functionality for showing tables\n",
    "import pandas as pd\n",
    "import collections\n",
    "\n",
    "# Functions returns statistics about all files in the corpus\n",
    "def report(corpus):\n",
    "    return [\"%s / %s\" % (len(document), len(collections.Counter(document))) for document in corpus]\n",
    "\n",
    "\n",
    "# Header of the table\n",
    "df = pd.DataFrame(columns=nltk.corpus.gutenberg.fileids())\n",
    "\n",
    "# load the corpus and report number words and unique number of words\n",
    "corpus = load_corpus()\n",
    "df.loc[\"raw\"] = report(corpus)\n",
    "\n",
    "# casefold all words and report statistics\n",
    "corpus = casefold_corpus(corpus)\n",
    "df.loc[\"case\"] = report(corpus)\n",
    "\n",
    "corpus = clean_corpus(corpus)\n",
    "df.loc[\"clean\"] = report(corpus)\n",
    "\n",
    "corpus = remove_stopwords_corpus(corpus)\n",
    "df.loc[\"stop words\"] = report(corpus)\n",
    "\n",
    "corpus = stem_corpus(corpus)\n",
    "df.loc[\"stemming\"] = report(corpus)\n",
    "\n",
    "\n",
    "print(\"the document after cleaning: \\n\")\n",
    "\n",
    "df"
   ]
  },
  {
   "cell_type": "markdown",
   "metadata": {},
   "source": [
    "# Representing Documents\n",
    "\n",
    "## Term-Document Matrix\n",
    "\n",
    "The Term-Document-Matrix allows to store the frequency of each term in each document. "
   ]
  },
  {
   "cell_type": "code",
   "execution_count": 12,
   "metadata": {},
   "outputs": [
    {
     "name": "stdout",
     "output_type": "stream",
     "text": [
      "\n",
      "\n",
      "\n",
      "Information about the entire corpus:\n",
      "Counter({              'the': 3,\n",
      "                       'This': 2,\n",
      "                       'is': 2,\n",
      "                       'document': 2,\n",
      "                       'text': 1,\n",
      "                       'in': 1,\n",
      "                       'first': 1,\n",
      "                       'second': 1})\n",
      "\n",
      "\n",
      "\n",
      "Information about each document:\n",
      "[              Counter({              'the': 2,\n",
      "                                      'This': 1,\n",
      "                                      'is': 1,\n",
      "                                      'text': 1,\n",
      "                                      'in': 1,\n",
      "                                      'first': 1,\n",
      "                                      'document': 1}),\n",
      "               Counter({              'This': 1,\n",
      "                                      'is': 1,\n",
      "                                      'the': 1,\n",
      "                                      'second': 1,\n",
      "                                      'document': 1})]\n"
     ]
    }
   ],
   "source": [
    "import collections\n",
    "import pprint\n",
    "\n",
    "def summarize_corpus(corpus):\n",
    "    counters = [collections.Counter(file) for file in corpus]\n",
    "\n",
    "    # create empty counter\n",
    "    counter_tmp = collections.Counter()\n",
    "    \n",
    "    # iterate counter and sum up\n",
    "    for c in counters:\n",
    "        counter_tmp += c\n",
    "    return (counter_tmp, counters)\n",
    "\n",
    "# test the implementation\n",
    "testcorpus = [\"This is the text in the first document\".split(), \"This is the second document\".split()]\n",
    "testcorpus_counter, testcorpus_documents = summarize_corpus(testcorpus)\n",
    "print('\\n\\n')\n",
    "pp = pprint.PrettyPrinter(indent=15)\n",
    "print(\"Information about the entire corpus:\")\n",
    "pp.pprint(testcorpus_counter)\n",
    "print('\\n\\n')\n",
    "\n",
    "\n",
    "print(\"Information about each document:\")\n",
    "pp.pprint(testcorpus_documents)"
   ]
  },
  {
   "cell_type": "code",
   "execution_count": 13,
   "metadata": {},
   "outputs": [
    {
     "name": "stdout",
     "output_type": "stream",
     "text": [
      "The corpus consists of 1089497 tokens and 25823 terms.\n",
      "The dimension of the respective TDM is 18 times 25823\n"
     ]
    }
   ],
   "source": [
    "# Run corpus summary on each document\n",
    "counter_corpus, counters_documents = summarize_corpus(corpus)\n",
    "print(\"The corpus consists of\", sum(counter_corpus.values()), \"tokens and\", len(counter_corpus), \"terms.\")\n",
    "print(\"The dimension of the respective TDM is\", len(corpus), \"times\", len(counter_corpus))"
   ]
  },
  {
   "cell_type": "markdown",
   "metadata": {},
   "source": [
    "### Create the Term-Document Matrix\n",
    "The Term-Document Matrix ist created by first getting the number of unique words among the entire corpus and then collecting the frequencies of those in the respective documents.\n",
    "\n",
    "The function is then applied to the small text corpus."
   ]
  },
  {
   "cell_type": "code",
   "execution_count": 14,
   "metadata": {},
   "outputs": [
    {
     "data": {
      "text/html": [
       "<div>\n",
       "<style scoped>\n",
       "    .dataframe tbody tr th:only-of-type {\n",
       "        vertical-align: middle;\n",
       "    }\n",
       "\n",
       "    .dataframe tbody tr th {\n",
       "        vertical-align: top;\n",
       "    }\n",
       "\n",
       "    .dataframe thead th {\n",
       "        text-align: right;\n",
       "    }\n",
       "</style>\n",
       "<table border=\"1\" class=\"dataframe\">\n",
       "  <thead>\n",
       "    <tr style=\"text-align: right;\">\n",
       "      <th></th>\n",
       "      <th>0</th>\n",
       "      <th>1</th>\n",
       "    </tr>\n",
       "  </thead>\n",
       "  <tbody>\n",
       "    <tr>\n",
       "      <th>This</th>\n",
       "      <td>1.0</td>\n",
       "      <td>1.0</td>\n",
       "    </tr>\n",
       "    <tr>\n",
       "      <th>is</th>\n",
       "      <td>1.0</td>\n",
       "      <td>1.0</td>\n",
       "    </tr>\n",
       "    <tr>\n",
       "      <th>the</th>\n",
       "      <td>2.0</td>\n",
       "      <td>1.0</td>\n",
       "    </tr>\n",
       "    <tr>\n",
       "      <th>text</th>\n",
       "      <td>1.0</td>\n",
       "      <td>0.0</td>\n",
       "    </tr>\n",
       "    <tr>\n",
       "      <th>in</th>\n",
       "      <td>1.0</td>\n",
       "      <td>0.0</td>\n",
       "    </tr>\n",
       "    <tr>\n",
       "      <th>first</th>\n",
       "      <td>1.0</td>\n",
       "      <td>0.0</td>\n",
       "    </tr>\n",
       "    <tr>\n",
       "      <th>document</th>\n",
       "      <td>1.0</td>\n",
       "      <td>1.0</td>\n",
       "    </tr>\n",
       "    <tr>\n",
       "      <th>second</th>\n",
       "      <td>0.0</td>\n",
       "      <td>1.0</td>\n",
       "    </tr>\n",
       "  </tbody>\n",
       "</table>\n",
       "</div>"
      ],
      "text/plain": [
       "            0    1\n",
       "This      1.0  1.0\n",
       "is        1.0  1.0\n",
       "the       2.0  1.0\n",
       "text      1.0  0.0\n",
       "in        1.0  0.0\n",
       "first     1.0  0.0\n",
       "document  1.0  1.0\n",
       "second    0.0  1.0"
      ]
     },
     "execution_count": 14,
     "metadata": {},
     "output_type": "execute_result"
    }
   ],
   "source": [
    "import numpy as np\n",
    "\n",
    "# create a Term Document Matrix from the corpus\n",
    "def create_term_document_matrix(corpus):\n",
    "    # get the summary of the corpus\n",
    "    counter_corpus, counter_documents = summarize_corpus(corpus)\n",
    "    \n",
    "    # create an empty matrix with the correct dimension\n",
    "    tdm = np.zeros((len(counter_corpus),len(corpus)))\n",
    "\n",
    "    for idx, word in enumerate(counter_corpus):\n",
    "        for document_id in range(len(corpus)):\n",
    "            if word in counter_documents[document_id]:\n",
    "                tdm[idx,document_id] = counter_documents[document_id][word]\n",
    "    return (tdm,list(counter_corpus.keys()))\n",
    "            \n",
    "# test the implementation\n",
    "test_tdm, test_names = create_term_document_matrix(testcorpus)\n",
    "\n",
    "df = pd.DataFrame(test_tdm, index=test_names)\n",
    "df"
   ]
  },
  {
   "cell_type": "markdown",
   "metadata": {},
   "source": [
    "In the resulting Term-Document Matrix it can be seen which words are contained in with documents. The word _first_ for instance is in _document 0_, only while the word _This_ is in both documents.\n",
    "\n",
    "We now create the matrix for the preprocessed corpus of gutenberg documents. "
   ]
  },
  {
   "cell_type": "code",
   "execution_count": 47,
   "metadata": {},
   "outputs": [
    {
     "data": {
      "text/html": [
       "<div>\n",
       "<style scoped>\n",
       "    .dataframe tbody tr th:only-of-type {\n",
       "        vertical-align: middle;\n",
       "    }\n",
       "\n",
       "    .dataframe tbody tr th {\n",
       "        vertical-align: top;\n",
       "    }\n",
       "\n",
       "    .dataframe thead th {\n",
       "        text-align: right;\n",
       "    }\n",
       "</style>\n",
       "<table border=\"1\" class=\"dataframe\">\n",
       "  <thead>\n",
       "    <tr style=\"text-align: right;\">\n",
       "      <th></th>\n",
       "      <th>austen-emma.txt</th>\n",
       "    </tr>\n",
       "  </thead>\n",
       "  <tbody>\n",
       "    <tr>\n",
       "      <th>emma</th>\n",
       "      <td>865.0</td>\n",
       "    </tr>\n",
       "    <tr>\n",
       "      <th>jane</th>\n",
       "      <td>301.0</td>\n",
       "    </tr>\n",
       "    <tr>\n",
       "      <th>austen</th>\n",
       "      <td>1.0</td>\n",
       "    </tr>\n",
       "    <tr>\n",
       "      <th>1816</th>\n",
       "      <td>1.0</td>\n",
       "    </tr>\n",
       "    <tr>\n",
       "      <th>volum</th>\n",
       "      <td>3.0</td>\n",
       "    </tr>\n",
       "    <tr>\n",
       "      <th>...</th>\n",
       "      <td>...</td>\n",
       "    </tr>\n",
       "    <tr>\n",
       "      <th>glum</th>\n",
       "      <td>0.0</td>\n",
       "    </tr>\n",
       "    <tr>\n",
       "      <th>demarc</th>\n",
       "      <td>0.0</td>\n",
       "    </tr>\n",
       "    <tr>\n",
       "      <th>cumul</th>\n",
       "      <td>0.0</td>\n",
       "    </tr>\n",
       "    <tr>\n",
       "      <th>germin</th>\n",
       "      <td>0.0</td>\n",
       "    </tr>\n",
       "    <tr>\n",
       "      <th>blither</th>\n",
       "      <td>0.0</td>\n",
       "    </tr>\n",
       "  </tbody>\n",
       "</table>\n",
       "<p>25823 rows × 1 columns</p>\n",
       "</div>"
      ],
      "text/plain": [
       "         austen-emma.txt\n",
       "emma               865.0\n",
       "jane               301.0\n",
       "austen               1.0\n",
       "1816                 1.0\n",
       "volum                3.0\n",
       "...                  ...\n",
       "glum                 0.0\n",
       "demarc               0.0\n",
       "cumul                0.0\n",
       "germin               0.0\n",
       "blither              0.0\n",
       "\n",
       "[25823 rows x 1 columns]"
      ]
     },
     "execution_count": 47,
     "metadata": {},
     "output_type": "execute_result"
    }
   ],
   "source": [
    "# create the actual TDM from the corpus\n",
    "tdm, names = create_term_document_matrix(corpus)\n",
    "tdm_df = pd.DataFrame(tdm, index=names, columns=nltk.corpus.gutenberg.fileids())\n",
    "\n",
    "tdm_df[[\"austen-emma.txt\"]]"
   ]
  },
  {
   "cell_type": "code",
   "execution_count": 50,
   "metadata": {},
   "outputs": [
    {
     "data": {
      "text/html": [
       "<div>\n",
       "<style scoped>\n",
       "    .dataframe tbody tr th:only-of-type {\n",
       "        vertical-align: middle;\n",
       "    }\n",
       "\n",
       "    .dataframe tbody tr th {\n",
       "        vertical-align: top;\n",
       "    }\n",
       "\n",
       "    .dataframe thead th {\n",
       "        text-align: right;\n",
       "    }\n",
       "</style>\n",
       "<table border=\"1\" class=\"dataframe\">\n",
       "  <thead>\n",
       "    <tr style=\"text-align: right;\">\n",
       "      <th></th>\n",
       "      <th>austen-emma.txt</th>\n",
       "      <th>austen-persuasion.txt</th>\n",
       "      <th>austen-sense.txt</th>\n",
       "      <th>bible-kjv.txt</th>\n",
       "      <th>blake-poems.txt</th>\n",
       "      <th>bryant-stories.txt</th>\n",
       "      <th>burgess-busterbrown.txt</th>\n",
       "      <th>carroll-alice.txt</th>\n",
       "      <th>chesterton-ball.txt</th>\n",
       "      <th>chesterton-brown.txt</th>\n",
       "      <th>chesterton-thursday.txt</th>\n",
       "      <th>edgeworth-parents.txt</th>\n",
       "      <th>melville-moby_dick.txt</th>\n",
       "      <th>milton-paradise.txt</th>\n",
       "      <th>shakespeare-caesar.txt</th>\n",
       "      <th>shakespeare-hamlet.txt</th>\n",
       "      <th>shakespeare-macbeth.txt</th>\n",
       "      <th>whitman-leaves.txt</th>\n",
       "    </tr>\n",
       "  </thead>\n",
       "  <tbody>\n",
       "    <tr>\n",
       "      <th>emma</th>\n",
       "      <td>865.0</td>\n",
       "      <td>1.0</td>\n",
       "      <td>0.0</td>\n",
       "      <td>0.0</td>\n",
       "      <td>0.0</td>\n",
       "      <td>0.0</td>\n",
       "      <td>0.0</td>\n",
       "      <td>0.0</td>\n",
       "      <td>0.0</td>\n",
       "      <td>0.0</td>\n",
       "      <td>0.0</td>\n",
       "      <td>0.0</td>\n",
       "      <td>0.0</td>\n",
       "      <td>0.0</td>\n",
       "      <td>0.0</td>\n",
       "      <td>0.0</td>\n",
       "      <td>0.0</td>\n",
       "      <td>0.0</td>\n",
       "    </tr>\n",
       "    <tr>\n",
       "      <th>jane</th>\n",
       "      <td>301.0</td>\n",
       "      <td>1.0</td>\n",
       "      <td>1.0</td>\n",
       "      <td>0.0</td>\n",
       "      <td>0.0</td>\n",
       "      <td>0.0</td>\n",
       "      <td>0.0</td>\n",
       "      <td>0.0</td>\n",
       "      <td>0.0</td>\n",
       "      <td>0.0</td>\n",
       "      <td>0.0</td>\n",
       "      <td>0.0</td>\n",
       "      <td>0.0</td>\n",
       "      <td>0.0</td>\n",
       "      <td>0.0</td>\n",
       "      <td>0.0</td>\n",
       "      <td>0.0</td>\n",
       "      <td>0.0</td>\n",
       "    </tr>\n",
       "    <tr>\n",
       "      <th>austen</th>\n",
       "      <td>1.0</td>\n",
       "      <td>1.0</td>\n",
       "      <td>1.0</td>\n",
       "      <td>0.0</td>\n",
       "      <td>0.0</td>\n",
       "      <td>0.0</td>\n",
       "      <td>0.0</td>\n",
       "      <td>0.0</td>\n",
       "      <td>0.0</td>\n",
       "      <td>0.0</td>\n",
       "      <td>0.0</td>\n",
       "      <td>0.0</td>\n",
       "      <td>0.0</td>\n",
       "      <td>0.0</td>\n",
       "      <td>0.0</td>\n",
       "      <td>0.0</td>\n",
       "      <td>0.0</td>\n",
       "      <td>0.0</td>\n",
       "    </tr>\n",
       "    <tr>\n",
       "      <th>1816</th>\n",
       "      <td>1.0</td>\n",
       "      <td>0.0</td>\n",
       "      <td>0.0</td>\n",
       "      <td>0.0</td>\n",
       "      <td>0.0</td>\n",
       "      <td>0.0</td>\n",
       "      <td>0.0</td>\n",
       "      <td>0.0</td>\n",
       "      <td>0.0</td>\n",
       "      <td>0.0</td>\n",
       "      <td>0.0</td>\n",
       "      <td>0.0</td>\n",
       "      <td>0.0</td>\n",
       "      <td>0.0</td>\n",
       "      <td>0.0</td>\n",
       "      <td>0.0</td>\n",
       "      <td>0.0</td>\n",
       "      <td>0.0</td>\n",
       "    </tr>\n",
       "    <tr>\n",
       "      <th>volum</th>\n",
       "      <td>3.0</td>\n",
       "      <td>6.0</td>\n",
       "      <td>3.0</td>\n",
       "      <td>2.0</td>\n",
       "      <td>0.0</td>\n",
       "      <td>0.0</td>\n",
       "      <td>0.0</td>\n",
       "      <td>0.0</td>\n",
       "      <td>1.0</td>\n",
       "      <td>2.0</td>\n",
       "      <td>1.0</td>\n",
       "      <td>1.0</td>\n",
       "      <td>15.0</td>\n",
       "      <td>0.0</td>\n",
       "      <td>2.0</td>\n",
       "      <td>1.0</td>\n",
       "      <td>1.0</td>\n",
       "      <td>3.0</td>\n",
       "    </tr>\n",
       "    <tr>\n",
       "      <th>...</th>\n",
       "      <td>...</td>\n",
       "      <td>...</td>\n",
       "      <td>...</td>\n",
       "      <td>...</td>\n",
       "      <td>...</td>\n",
       "      <td>...</td>\n",
       "      <td>...</td>\n",
       "      <td>...</td>\n",
       "      <td>...</td>\n",
       "      <td>...</td>\n",
       "      <td>...</td>\n",
       "      <td>...</td>\n",
       "      <td>...</td>\n",
       "      <td>...</td>\n",
       "      <td>...</td>\n",
       "      <td>...</td>\n",
       "      <td>...</td>\n",
       "      <td>...</td>\n",
       "    </tr>\n",
       "    <tr>\n",
       "      <th>glum</th>\n",
       "      <td>0.0</td>\n",
       "      <td>0.0</td>\n",
       "      <td>0.0</td>\n",
       "      <td>0.0</td>\n",
       "      <td>0.0</td>\n",
       "      <td>0.0</td>\n",
       "      <td>0.0</td>\n",
       "      <td>0.0</td>\n",
       "      <td>0.0</td>\n",
       "      <td>0.0</td>\n",
       "      <td>0.0</td>\n",
       "      <td>0.0</td>\n",
       "      <td>0.0</td>\n",
       "      <td>0.0</td>\n",
       "      <td>0.0</td>\n",
       "      <td>0.0</td>\n",
       "      <td>0.0</td>\n",
       "      <td>1.0</td>\n",
       "    </tr>\n",
       "    <tr>\n",
       "      <th>demarc</th>\n",
       "      <td>0.0</td>\n",
       "      <td>0.0</td>\n",
       "      <td>0.0</td>\n",
       "      <td>0.0</td>\n",
       "      <td>0.0</td>\n",
       "      <td>0.0</td>\n",
       "      <td>0.0</td>\n",
       "      <td>0.0</td>\n",
       "      <td>0.0</td>\n",
       "      <td>0.0</td>\n",
       "      <td>0.0</td>\n",
       "      <td>0.0</td>\n",
       "      <td>0.0</td>\n",
       "      <td>0.0</td>\n",
       "      <td>0.0</td>\n",
       "      <td>0.0</td>\n",
       "      <td>0.0</td>\n",
       "      <td>1.0</td>\n",
       "    </tr>\n",
       "    <tr>\n",
       "      <th>cumul</th>\n",
       "      <td>0.0</td>\n",
       "      <td>0.0</td>\n",
       "      <td>0.0</td>\n",
       "      <td>0.0</td>\n",
       "      <td>0.0</td>\n",
       "      <td>0.0</td>\n",
       "      <td>0.0</td>\n",
       "      <td>0.0</td>\n",
       "      <td>0.0</td>\n",
       "      <td>0.0</td>\n",
       "      <td>0.0</td>\n",
       "      <td>0.0</td>\n",
       "      <td>0.0</td>\n",
       "      <td>0.0</td>\n",
       "      <td>0.0</td>\n",
       "      <td>0.0</td>\n",
       "      <td>0.0</td>\n",
       "      <td>1.0</td>\n",
       "    </tr>\n",
       "    <tr>\n",
       "      <th>germin</th>\n",
       "      <td>0.0</td>\n",
       "      <td>0.0</td>\n",
       "      <td>0.0</td>\n",
       "      <td>0.0</td>\n",
       "      <td>0.0</td>\n",
       "      <td>0.0</td>\n",
       "      <td>0.0</td>\n",
       "      <td>0.0</td>\n",
       "      <td>0.0</td>\n",
       "      <td>0.0</td>\n",
       "      <td>0.0</td>\n",
       "      <td>0.0</td>\n",
       "      <td>0.0</td>\n",
       "      <td>0.0</td>\n",
       "      <td>0.0</td>\n",
       "      <td>0.0</td>\n",
       "      <td>0.0</td>\n",
       "      <td>1.0</td>\n",
       "    </tr>\n",
       "    <tr>\n",
       "      <th>blither</th>\n",
       "      <td>0.0</td>\n",
       "      <td>0.0</td>\n",
       "      <td>0.0</td>\n",
       "      <td>0.0</td>\n",
       "      <td>0.0</td>\n",
       "      <td>0.0</td>\n",
       "      <td>0.0</td>\n",
       "      <td>0.0</td>\n",
       "      <td>0.0</td>\n",
       "      <td>0.0</td>\n",
       "      <td>0.0</td>\n",
       "      <td>0.0</td>\n",
       "      <td>0.0</td>\n",
       "      <td>0.0</td>\n",
       "      <td>0.0</td>\n",
       "      <td>0.0</td>\n",
       "      <td>0.0</td>\n",
       "      <td>1.0</td>\n",
       "    </tr>\n",
       "  </tbody>\n",
       "</table>\n",
       "<p>25823 rows × 18 columns</p>\n",
       "</div>"
      ],
      "text/plain": [
       "         austen-emma.txt  austen-persuasion.txt  austen-sense.txt  \\\n",
       "emma               865.0                    1.0               0.0   \n",
       "jane               301.0                    1.0               1.0   \n",
       "austen               1.0                    1.0               1.0   \n",
       "1816                 1.0                    0.0               0.0   \n",
       "volum                3.0                    6.0               3.0   \n",
       "...                  ...                    ...               ...   \n",
       "glum                 0.0                    0.0               0.0   \n",
       "demarc               0.0                    0.0               0.0   \n",
       "cumul                0.0                    0.0               0.0   \n",
       "germin               0.0                    0.0               0.0   \n",
       "blither              0.0                    0.0               0.0   \n",
       "\n",
       "         bible-kjv.txt  blake-poems.txt  bryant-stories.txt  \\\n",
       "emma               0.0              0.0                 0.0   \n",
       "jane               0.0              0.0                 0.0   \n",
       "austen             0.0              0.0                 0.0   \n",
       "1816               0.0              0.0                 0.0   \n",
       "volum              2.0              0.0                 0.0   \n",
       "...                ...              ...                 ...   \n",
       "glum               0.0              0.0                 0.0   \n",
       "demarc             0.0              0.0                 0.0   \n",
       "cumul              0.0              0.0                 0.0   \n",
       "germin             0.0              0.0                 0.0   \n",
       "blither            0.0              0.0                 0.0   \n",
       "\n",
       "         burgess-busterbrown.txt  carroll-alice.txt  chesterton-ball.txt  \\\n",
       "emma                         0.0                0.0                  0.0   \n",
       "jane                         0.0                0.0                  0.0   \n",
       "austen                       0.0                0.0                  0.0   \n",
       "1816                         0.0                0.0                  0.0   \n",
       "volum                        0.0                0.0                  1.0   \n",
       "...                          ...                ...                  ...   \n",
       "glum                         0.0                0.0                  0.0   \n",
       "demarc                       0.0                0.0                  0.0   \n",
       "cumul                        0.0                0.0                  0.0   \n",
       "germin                       0.0                0.0                  0.0   \n",
       "blither                      0.0                0.0                  0.0   \n",
       "\n",
       "         chesterton-brown.txt  chesterton-thursday.txt  edgeworth-parents.txt  \\\n",
       "emma                      0.0                      0.0                    0.0   \n",
       "jane                      0.0                      0.0                    0.0   \n",
       "austen                    0.0                      0.0                    0.0   \n",
       "1816                      0.0                      0.0                    0.0   \n",
       "volum                     2.0                      1.0                    1.0   \n",
       "...                       ...                      ...                    ...   \n",
       "glum                      0.0                      0.0                    0.0   \n",
       "demarc                    0.0                      0.0                    0.0   \n",
       "cumul                     0.0                      0.0                    0.0   \n",
       "germin                    0.0                      0.0                    0.0   \n",
       "blither                   0.0                      0.0                    0.0   \n",
       "\n",
       "         melville-moby_dick.txt  milton-paradise.txt  shakespeare-caesar.txt  \\\n",
       "emma                        0.0                  0.0                     0.0   \n",
       "jane                        0.0                  0.0                     0.0   \n",
       "austen                      0.0                  0.0                     0.0   \n",
       "1816                        0.0                  0.0                     0.0   \n",
       "volum                      15.0                  0.0                     2.0   \n",
       "...                         ...                  ...                     ...   \n",
       "glum                        0.0                  0.0                     0.0   \n",
       "demarc                      0.0                  0.0                     0.0   \n",
       "cumul                       0.0                  0.0                     0.0   \n",
       "germin                      0.0                  0.0                     0.0   \n",
       "blither                     0.0                  0.0                     0.0   \n",
       "\n",
       "         shakespeare-hamlet.txt  shakespeare-macbeth.txt  whitman-leaves.txt  \n",
       "emma                        0.0                      0.0                 0.0  \n",
       "jane                        0.0                      0.0                 0.0  \n",
       "austen                      0.0                      0.0                 0.0  \n",
       "1816                        0.0                      0.0                 0.0  \n",
       "volum                       1.0                      1.0                 3.0  \n",
       "...                         ...                      ...                 ...  \n",
       "glum                        0.0                      0.0                 1.0  \n",
       "demarc                      0.0                      0.0                 1.0  \n",
       "cumul                       0.0                      0.0                 1.0  \n",
       "germin                      0.0                      0.0                 1.0  \n",
       "blither                     0.0                      0.0                 1.0  \n",
       "\n",
       "[25823 rows x 18 columns]"
      ]
     },
     "execution_count": 50,
     "metadata": {},
     "output_type": "execute_result"
    }
   ],
   "source": [
    "tdm_df"
   ]
  },
  {
   "cell_type": "code",
   "execution_count": 16,
   "metadata": {},
   "outputs": [
    {
     "data": {
      "text/plain": [
       "array([[865.,   1.,   0., ...,   0.,   0.,   0.],\n",
       "       [301.,   1.,   1., ...,   0.,   0.,   0.],\n",
       "       [  1.,   1.,   1., ...,   0.,   0.,   0.],\n",
       "       ...,\n",
       "       [  0.,   0.,   0., ...,   0.,   0.,   1.],\n",
       "       [  0.,   0.,   0., ...,   0.,   0.,   1.],\n",
       "       [  0.,   0.,   0., ...,   0.,   0.,   1.]])"
      ]
     },
     "execution_count": 16,
     "metadata": {},
     "output_type": "execute_result"
    }
   ],
   "source": [
    "tdm"
   ]
  },
  {
   "cell_type": "code",
   "execution_count": 34,
   "metadata": {},
   "outputs": [
    {
     "data": {
      "text/plain": [
       "25823"
      ]
     },
     "execution_count": 34,
     "metadata": {},
     "output_type": "execute_result"
    }
   ],
   "source": [
    "terms = len(names)\n",
    "terms"
   ]
  },
  {
   "cell_type": "markdown",
   "metadata": {},
   "source": [
    "### Querying the Term-Document matrix\n",
    "\n",
    "In order to check whether a document satifies a query or not, the query has to be preprocessed in the same way as we did with the entire corpus. This means we have to execute the follwoing steps:\n",
    "1. casefold each word in the query\n",
    "2. remove unnecessary characters in the query\n",
    "3. remove stop words in the query\n",
    "4. stem the words in the query\n",
    "\n",
    "After the implementation, the query is tested on small test query.\n",
    "\n",
    "#### Query processing "
   ]
  },
  {
   "cell_type": "code",
   "execution_count": 18,
   "metadata": {},
   "outputs": [
    {
     "name": "stdout",
     "output_type": "stream",
     "text": [
      "The result of preparing the query: ['queri', 'aim', 'test']\n"
     ]
    }
   ],
   "source": [
    "# we have to prepare the query in the same way as we did for the document\n",
    "# query porcessing \n",
    "\n",
    "def prepare_query(query):\n",
    "    query = casefold_file(query)\n",
    "    query = clean_file(query, characters_to_remove)\n",
    "    query = filter_words(query, stopwords_en)\n",
    "    query = [ps.stem(word) for word in query]\n",
    "    return query\n",
    "\n",
    "# test the method\n",
    "testquery = \"This is a query, which aims a testing\".split()\n",
    "pq_testquery = prepare_query(testquery)\n",
    "print(\"The result of preparing the query:\", pq_testquery)"
   ]
  },
  {
   "cell_type": "markdown",
   "metadata": {},
   "source": [
    "### Query execution\n",
    "To execute the query on the TDM, the score for each document has to be calculated. The score is thereby defined as the sum of the cells for the words of the query. As result, for each document, the number of words from the query which are contained in the document is provided."
   ]
  },
  {
   "cell_type": "code",
   "execution_count": 19,
   "metadata": {},
   "outputs": [
    {
     "name": "stdout",
     "output_type": "stream",
     "text": [
      "Result for query ['second', 'document'] is [1. 2.]\n"
     ]
    }
   ],
   "source": [
    "def query_documents(tdm, names, query):\n",
    "    idxs = [names.index(word) for word in query if word in names]\n",
    "    return tdm[idxs].sum(axis=0)\n",
    "\n",
    "# test \n",
    "testquery = prepare_query(\"Second document\".split())\n",
    "result1 = query_documents(test_tdm, test_names, testquery)\n",
    "print(\"Result for query\", testquery, \"is\", result1)\n",
    "\n",
    "# testquery2 = prepare_query(\"Second text\".split())\n",
    "# result2 = query_documents(test_tdm, test_names, testquery2)\n",
    "# print(\"Result for query\", testquery2, \"is\", result2)\n",
    "\n",
    "# testquery3 = prepare_query(\"unrelated text\".split())\n",
    "# result3 = query_documents(test_tdm, test_names, testquery3)\n",
    "# print(\"Result for query\", testquery3, \"is\", result3)"
   ]
  },
  {
   "cell_type": "markdown",
   "metadata": {},
   "source": [
    "## mapping to Documents to score of relevance "
   ]
  },
  {
   "cell_type": "code",
   "execution_count": 42,
   "metadata": {},
   "outputs": [
    {
     "data": {
      "text/plain": [
       "{'Doc1': 1.0, 'Doc2': 2.0}"
      ]
     },
     "execution_count": 42,
     "metadata": {},
     "output_type": "execute_result"
    }
   ],
   "source": [
    "dict_map = {}\n",
    "\n",
    "scores = list(result1)\n",
    "docIDs = [\"Doc1\", \"Doc2\"]\n",
    "\n",
    "\n",
    "for score, id in zip(scores, docIDs):\n",
    "\n",
    "    dict_map[id] = score\n",
    "\n",
    "dict_map"
   ]
  },
  {
   "cell_type": "code",
   "execution_count": 45,
   "metadata": {},
   "outputs": [
    {
     "data": {
      "text/plain": [
       "['emma', 'jane', 'austen']"
      ]
     },
     "execution_count": 45,
     "metadata": {},
     "output_type": "execute_result"
    }
   ],
   "source": [
    "terms = names\n",
    "len(terms)\n",
    "terms[:3]"
   ]
  },
  {
   "cell_type": "markdown",
   "metadata": {},
   "source": [
    "The resulting score can easily be plotted by use of barcharts, as the following implementation shows. The implementation is checked on the small test corpus."
   ]
  },
  {
   "cell_type": "code",
   "execution_count": 21,
   "metadata": {},
   "outputs": [],
   "source": [
    "#show results in a nice form\n",
    "import matplotlib.pyplot as plt;\n",
    "plt.style.use('dark_background')\n",
    "\n",
    "\n",
    "def show_results(res, document_names=[], query=[]):\n",
    "    \"\"\"\n",
    "    function takes\n",
    "\n",
    "    \"\"\"\n",
    "    if (len(document_names) != len(res)):\n",
    "        document_names = range(len(res))\n",
    "        \n",
    "    plt.bar(range(len(res)), res)\n",
    "    plt.xticks(range(len(res)), document_names, rotation=90)\n",
    "    \n",
    "    plt.title(\"Query:\" + \" \".join(query))\n",
    "    plt.show()\n",
    "\n",
    "#show_results(result1, [\"First Document\", \"Second Document\"], testquery)"
   ]
  },
  {
   "cell_type": "markdown",
   "metadata": {},
   "source": [
    "Running a query on the entire corpus reveals that Austen's _Emma_ has the highest score, followed by Shakespeares' _Caesar_.\n",
    "The reason is that the document _Emma_ contains the word _Emma_ more than 800 times. The words _Caesar_ and _Brutus_ occur together about 400 times in the document _Caesar_. \n",
    "As a result, the document _Emma_ is twice as relevant as the document _Caesar_ for the given query."
   ]
  },
  {
   "cell_type": "code",
   "execution_count": 22,
   "metadata": {},
   "outputs": [
    {
     "data": {
      "image/png": "[encoded data removed]",
      "text/plain": [
       "<Figure size 640x480 with 1 Axes>"
      ]
     },
     "metadata": {},
     "output_type": "display_data"
    }
   ],
   "source": [
    "query = [\"Brutus\", \"Caesar\", \"Austen\", \"the\", \"The\", \";\", \"Emma\", \"Austen\", \"Jesus\", \"Jesus\", \"Jesus\"]\n",
    "plt.style.use('dark_background')\n",
    "\n",
    "query = prepare_query(query)\n",
    "results_unscaled = query_documents(tdm, names, query)\n",
    "\n",
    "show_results(results_unscaled, nltk.corpus.gutenberg.fileids(), query)"
   ]
  },
  {
   "cell_type": "code",
   "execution_count": 23,
   "metadata": {},
   "outputs": [
    {
     "data": {
      "text/plain": [
       "array([8.670e+02, 3.000e+00, 2.000e+00, 2.979e+03, 3.000e+00, 0.000e+00,\n",
       "       0.000e+00, 0.000e+00, 3.000e+00, 6.000e+00, 2.000e+00, 1.000e+00,\n",
       "       8.000e+00, 6.000e+00, 3.890e+02, 3.000e+00, 1.000e+00, 0.000e+00])"
      ]
     },
     "execution_count": 23,
     "metadata": {},
     "output_type": "execute_result"
    }
   ],
   "source": [
    "results_unscaled"
   ]
  },
  {
   "cell_type": "code",
   "execution_count": 24,
   "metadata": {},
   "outputs": [
    {
     "data": {
      "text/plain": [
       "['austen-emma.txt',\n",
       " 'austen-persuasion.txt',\n",
       " 'austen-sense.txt',\n",
       " 'bible-kjv.txt',\n",
       " 'blake-poems.txt',\n",
       " 'bryant-stories.txt',\n",
       " 'burgess-busterbrown.txt',\n",
       " 'carroll-alice.txt',\n",
       " 'chesterton-ball.txt',\n",
       " 'chesterton-brown.txt',\n",
       " 'chesterton-thursday.txt',\n",
       " 'edgeworth-parents.txt',\n",
       " 'melville-moby_dick.txt',\n",
       " 'milton-paradise.txt',\n",
       " 'shakespeare-caesar.txt',\n",
       " 'shakespeare-hamlet.txt',\n",
       " 'shakespeare-macbeth.txt',\n",
       " 'whitman-leaves.txt']"
      ]
     },
     "execution_count": 24,
     "metadata": {},
     "output_type": "execute_result"
    }
   ],
   "source": [
    "nltk.corpus.gutenberg.fileids()"
   ]
  },
  {
   "cell_type": "code",
   "execution_count": null,
   "metadata": {},
   "outputs": [],
   "source": []
  },
  {
   "cell_type": "markdown",
   "metadata": {},
   "source": [
    "## Log Scaled TF-IDF\n",
    "\n",
    "\n",
    "This weighting reveals a problem with the term-frequency ranking, as documents where words from query occur twice as often as in other documents result in the double weight. A typical way to change this linear dependency is to use the logarithm. In the following the logarithm is implemented for scaling.\n",
    "Two changes can be observed from the results:\n",
    "1. The scores of both document are much closer to each other \n",
    "2. The score of _Caesar_ is higher than the score of _Emma_\n",
    "\n",
    "This is a direct result of the summation of the logarithmic transformed weights."
   ]
  },
  {
   "cell_type": "markdown",
   "metadata": {},
   "source": [
    "### Adjusting Term-Frequency with logarithm"
   ]
  },
  {
   "cell_type": "code",
   "execution_count": 25,
   "metadata": {},
   "outputs": [
    {
     "data": {
      "image/png": "[encoded data removed]",
      "text/plain": [
       "<Figure size 640x480 with 1 Axes>"
      ]
     },
     "metadata": {},
     "output_type": "display_data"
    }
   ],
   "source": [
    "def scale_tf(m):\n",
    "    return np.log1p(m)\n",
    "\n",
    "tdm_tf = scale_tf(tdm)\n",
    "#tdm_tf = np.log(test_tdm)\n",
    "res_tf = query_documents(tdm_tf, names, query)\n",
    "\n",
    "show_results(res_tf, nltk.corpus.gutenberg.fileids(), query)\n",
    "plt.style.use('dark_background')"
   ]
  },
  {
   "cell_type": "markdown",
   "metadata": {},
   "source": [
    "\n",
    "# TF-IDF\n",
    "\n",
    "## Further Adjustments with Inverse-Document-Frequency\n",
    "\n",
    "As discussed elsewhere, term-frequency weighting has some negative effects if for words that occur often in the entire corpus. One approach to compensate for this behaviour is to use the the inverse document frequency.\n",
    "\n",
    "The following implementation takes an unscaled TDM and applies the tf-idf scaling on the matrix."
   ]
  },
  {
   "cell_type": "code",
   "execution_count": 26,
   "metadata": {},
   "outputs": [],
   "source": [
    "def scale_tfidf(m):\n",
    "    m = scale_tf(m)\n",
    "    tmp = m!=0\n",
    "    num_documents = m.shape[1]\n",
    "    \n",
    "    idf = np.log(num_documents/m.sum(axis=1))\n",
    "    return (m.T * idf).T\n",
    "\n",
    "# test implementation\n",
    "test_tdm_tfidf = scale_tfidf(test_tdm)\n",
    "r = query_documents(test_tdm_tfidf, test_names, testquery)\n",
    "#show_results(r, query=testquery, document_names=[\"First document\", \"Second document\"])\n",
    "#plt.style.use('dark_background')"
   ]
  },
  {
   "cell_type": "markdown",
   "metadata": {},
   "source": [
    "Applying the TF-IDF weighting to the corpus shows again that the document _Emma_ is slightly more relevant as the document _Caesar_. The reason is that the words _Caesar_ and _Brutus_ appear more often in the corpus than the word _Emma_."
   ]
  },
  {
   "cell_type": "code",
   "execution_count": 27,
   "metadata": {},
   "outputs": [
    {
     "data": {
      "image/png": "[encoded data removed]",
      "text/plain": [
       "<Figure size 640x480 with 1 Axes>"
      ]
     },
     "metadata": {},
     "output_type": "display_data"
    }
   ],
   "source": [
    "# scale Term-document matrix\n",
    "tdm_tfidf = scale_tfidf(tdm)\n",
    "results_tfidf = query_documents(tdm_tfidf, names, query)\n",
    "show_results(results_tfidf, query=query, document_names=nltk.corpus.gutenberg.fileids())\n",
    "plt.style.use('dark_background')"
   ]
  },
  {
   "cell_type": "markdown",
   "metadata": {},
   "source": [
    "## Mapping file names to score and show by order of relevance"
   ]
  },
  {
   "cell_type": "code",
   "execution_count": 28,
   "metadata": {},
   "outputs": [
    {
     "name": "stdout",
     "output_type": "stream",
     "text": [
      "Document: bible-kjv.txt - Score: 2979.0\n",
      "Document: austen-emma.txt - Score: 867.0\n",
      "Document: shakespeare-caesar.txt - Score: 389.0\n",
      "Document: melville-moby_dick.txt - Score: 8.0\n",
      "Document: chesterton-brown.txt - Score: 6.0\n",
      "Document: milton-paradise.txt - Score: 6.0\n",
      "Document: austen-persuasion.txt - Score: 3.0\n",
      "Document: blake-poems.txt - Score: 3.0\n",
      "Document: chesterton-ball.txt - Score: 3.0\n",
      "Document: shakespeare-hamlet.txt - Score: 3.0\n",
      "Document: austen-sense.txt - Score: 2.0\n",
      "Document: chesterton-thursday.txt - Score: 2.0\n",
      "Document: edgeworth-parents.txt - Score: 1.0\n",
      "Document: shakespeare-macbeth.txt - Score: 1.0\n",
      "Document: bryant-stories.txt - Score: 0.0\n",
      "Document: burgess-busterbrown.txt - Score: 0.0\n",
      "Document: carroll-alice.txt - Score: 0.0\n",
      "Document: whitman-leaves.txt - Score: 0.0\n"
     ]
    }
   ],
   "source": [
    "import numpy as np\n",
    "\n",
    "# Given score array and file_names list\n",
    "score = np.array([8.670e+02, 3.000e+00, 2.000e+00, 2.979e+03, 3.000e+00, 0.000e+00, 0.000e+00, 0.000e+00, 3.000e+00, 6.000e+00, 2.000e+00, 1.000e+00, 8.000e+00, 6.000e+00, 3.890e+02, 3.000e+00, 1.000e+00, 0.000e+00])\n",
    "file_names = ['austen-emma.txt', 'austen-persuasion.txt', 'austen-sense.txt', 'bible-kjv.txt', 'blake-poems.txt', 'bryant-stories.txt', 'burgess-busterbrown.txt', 'carroll-alice.txt', 'chesterton-ball.txt', 'chesterton-brown.txt', 'chesterton-thursday.txt', 'edgeworth-parents.txt', 'melville-moby_dick.txt', 'milton-paradise.txt', 'shakespeare-caesar.txt', 'shakespeare-hamlet.txt', 'shakespeare-macbeth.txt', 'whitman-leaves.txt']\n",
    "\n",
    "# Create a dictionary mapping file names to scores\n",
    "file_score_mapping = {file_names[i]: score[i] for i in range(len(file_names))}\n",
    "\n",
    "# Sort the file names based on scores in descending order\n",
    "sorted_files = sorted(file_score_mapping, key=file_score_mapping.get, reverse=True)\n",
    "\n",
    "# Display the results\n",
    "for file in sorted_files:\n",
    "    print(f\"Document: {file} - Score: {file_score_mapping[file]}\")\n"
   ]
  },
  {
   "cell_type": "markdown",
   "metadata": {},
   "source": [
    "## normalize relevance score out of 100%"
   ]
  },
  {
   "cell_type": "code",
   "execution_count": 29,
   "metadata": {},
   "outputs": [
    {
     "name": "stdout",
     "output_type": "stream",
     "text": [
      "Document: bible-kjv.txt - Normalized Score (%): 69.71682658553709\n",
      "Document: austen-emma.txt - Normalized Score (%): 20.290194242920663\n",
      "Document: shakespeare-caesar.txt - Normalized Score (%): 9.103674233559559\n",
      "Document: melville-moby_dick.txt - Normalized Score (%): 0.1872220922068804\n",
      "Document: chesterton-brown.txt - Normalized Score (%): 0.14041656915516032\n",
      "Document: milton-paradise.txt - Normalized Score (%): 0.14041656915516032\n",
      "Document: austen-persuasion.txt - Normalized Score (%): 0.07020828457758016\n",
      "Document: blake-poems.txt - Normalized Score (%): 0.07020828457758016\n",
      "Document: chesterton-ball.txt - Normalized Score (%): 0.07020828457758016\n",
      "Document: shakespeare-hamlet.txt - Normalized Score (%): 0.07020828457758016\n",
      "Document: chesterton-thursday.txt - Normalized Score (%): 0.0468055230517201\n",
      "Document: austen-sense.txt - Normalized Score (%): 0.0468055230517201\n",
      "Document: shakespeare-macbeth.txt - Normalized Score (%): 0.02340276152586005\n",
      "Document: edgeworth-parents.txt - Normalized Score (%): 0.02340276152586005\n",
      "Document: carroll-alice.txt - Normalized Score (%): 0.0\n",
      "Document: burgess-busterbrown.txt - Normalized Score (%): 0.0\n",
      "Document: bryant-stories.txt - Normalized Score (%): 0.0\n",
      "Document: whitman-leaves.txt - Normalized Score (%): 0.0\n"
     ]
    }
   ],
   "source": [
    "import numpy as np\n",
    "\n",
    "# Given score array\n",
    "score = np.array([8.670e+02, 3.000e+00, 2.000e+00, 2.979e+03, 3.000e+00, 0.000e+00, 0.000e+00, 0.000e+00, 3.000e+00, 6.000e+00, 2.000e+00, 1.000e+00, 8.000e+00, 6.000e+00, 3.890e+02, 3.000e+00, 1.000e+00, 0.000e+00])\n",
    "\n",
    "# Normalize the scores to a percentage scale\n",
    "normalized_scores = (score / np.sum(score)) * 100\n",
    "\n",
    "# Sort the normalized scores and file names in descending order\n",
    "sorted_indices = np.argsort(normalized_scores)[::-1]\n",
    "sorted_files_by_percentage = [file_names[i] for i in sorted_indices]\n",
    "sorted_normalized_scores = normalized_scores[sorted_indices]\n",
    "\n",
    "# Display the results\n",
    "for i in range(len(sorted_files_by_percentage)):\n",
    "    print(f\"Document: {sorted_files_by_percentage[i]} - Normalized Score (%): {sorted_normalized_scores[i]}\")"
   ]
  },
  {
   "cell_type": "markdown",
   "metadata": {},
   "source": [
    "## Mapping in the databse"
   ]
  },
  {
   "cell_type": "code",
   "execution_count": 30,
   "metadata": {},
   "outputs": [
    {
     "name": "stdout",
     "output_type": "stream",
     "text": [
      "Document ID: 4 - Normalized Score (%): 69.71682658553709 - Content: The fourth document has additional information that can be analyzed.\n",
      "Document ID: 1 - Normalized Score (%): 20.290194242920663 - Content: This is the textual content of document 1.\n",
      "Document ID: 15 - Normalized Score (%): 9.103674233559559 - Content: Document 15 contains data that can be analyzed for meaningful conclusions.\n",
      "Document ID: 13 - Normalized Score (%): 0.1872220922068804 - Content: This is the content of document 13, contributing to the project's findings.\n",
      "Document ID: 10 - Normalized Score (%): 0.14041656915516032 - Content: This is the tenth document, containing crucial information for the analysis.\n",
      "Document ID: 14 - Normalized Score (%): 0.14041656915516032 - Content: The fourteenth document offers valuable insights and perspectives.\n",
      "Document ID: 2 - Normalized Score (%): 0.07020828457758016 - Content: Here is the content of document 2, containing relevant information.\n",
      "Document ID: 5 - Normalized Score (%): 0.07020828457758016 - Content: Document number 5 contains various data points for analysis.\n",
      "Document ID: 9 - Normalized Score (%): 0.07020828457758016 - Content: The ninth document is a comprehensive source of relevant data.\n",
      "Document ID: 16 - Normalized Score (%): 0.07020828457758016 - Content: The sixteenth document's content plays a crucial role in the analysis.\n",
      "Document ID: 11 - Normalized Score (%): 0.0468055230517201 - Content: The eleventh document is an essential piece of the overall dataset.\n",
      "Document ID: 3 - Normalized Score (%): 0.0468055230517201 - Content: Document 3 has some important details that might be useful.\n",
      "Document ID: 17 - Normalized Score (%): 0.02340276152586005 - Content: This is the seventeenth document, providing critical information for the study.\n",
      "Document ID: 12 - Normalized Score (%): 0.02340276152586005 - Content: Document 12 provides insightful information for the research.\n",
      "Document ID: 8 - Normalized Score (%): 0.0 - Content: Document 8 includes important details that need careful examination.\n",
      "Document ID: 7 - Normalized Score (%): 0.0 - Content: The seventh document's content is rich with valuable information.\n",
      "Document ID: 6 - Normalized Score (%): 0.0 - Content: This is the content of the sixth document, providing essential insights.\n",
      "Document ID: 18 - Normalized Score (%): 0.0 - Content: The eighteenth document is an essential part of the dataset for analysis.\n"
     ]
    }
   ],
   "source": [
    "import numpy as np\n",
    "\n",
    "# Populated 'documents' dictionary with random values for demonstration\n",
    "documents = {\n",
    "    1: \"This is the textual content of document 1.\",\n",
    "    2: \"Here is the content of document 2, containing relevant information.\",\n",
    "    3: \"Document 3 has some important details that might be useful.\",\n",
    "    4: \"The fourth document has additional information that can be analyzed.\",\n",
    "    5: \"Document number 5 contains various data points for analysis.\",\n",
    "    6: \"This is the content of the sixth document, providing essential insights.\",\n",
    "    7: \"The seventh document's content is rich with valuable information.\",\n",
    "    8: \"Document 8 includes important details that need careful examination.\",\n",
    "    9: \"The ninth document is a comprehensive source of relevant data.\",\n",
    "    10: \"This is the tenth document, containing crucial information for the analysis.\",\n",
    "    11: \"The eleventh document is an essential piece of the overall dataset.\",\n",
    "    12: \"Document 12 provides insightful information for the research.\",\n",
    "    13: \"This is the content of document 13, contributing to the project's findings.\",\n",
    "    14: \"The fourteenth document offers valuable insights and perspectives.\",\n",
    "    15: \"Document 15 contains data that can be analyzed for meaningful conclusions.\",\n",
    "    16: \"The sixteenth document's content plays a crucial role in the analysis.\",\n",
    "    17: \"This is the seventeenth document, providing critical information for the study.\",\n",
    "    18: \"The eighteenth document is an essential part of the dataset for analysis.\"\n",
    "}\n",
    "\n",
    "# Given score array\n",
    "score = np.array([8.670e+02, 3.000e+00, 2.000e+00, 2.979e+03, 3.000e+00, 0.000e+00, 0.000e+00, 0.000e+00, 3.000e+00, 6.000e+00, 2.000e+00, 1.000e+00, 8.000e+00, 6.000e+00, 3.890e+02, 3.000e+00, 1.000e+00, 0.000e+00])\n",
    "\n",
    "# Normalize the scores to a percentage scale\n",
    "normalized_scores = (score / np.sum(score)) * 100\n",
    "\n",
    "# Assuming you have a list of document IDs corresponding to the scores\n",
    "document_ids = list(documents.keys())\n",
    "\n",
    "# Sort the document IDs based on normalized scores in descending order\n",
    "sorted_indices = np.argsort(normalized_scores)[::-1]\n",
    "sorted_document_ids = [document_ids[i] for i in sorted_indices]\n",
    "sorted_normalized_scores = normalized_scores[sorted_indices]\n",
    "\n",
    "# Fetch and display the documents based on the sorted document IDs\n",
    "for i in range(len(sorted_document_ids)):\n",
    "    document_id = sorted_document_ids[i]\n",
    "    document_content = documents[document_id]\n",
    "    print(f\"Document ID: {document_id} - Normalized Score (%): {sorted_normalized_scores[i]} - Content: {document_content}\")\n"
   ]
  },
  {
   "cell_type": "code",
   "execution_count": 31,
   "metadata": {},
   "outputs": [
    {
     "ename": "ModuleNotFoundError",
     "evalue": "No module named 'psycopg2'",
     "output_type": "error",
     "traceback": [
      "\u001b[0;31m---------------------------------------------------------------------------\u001b[0m",
      "\u001b[0;31mModuleNotFoundError\u001b[0m                       Traceback (most recent call last)",
      "Cell \u001b[0;32mIn[31], line 2\u001b[0m\n\u001b[1;32m      1\u001b[0m \u001b[38;5;28;01mimport\u001b[39;00m \u001b[38;5;21;01mnumpy\u001b[39;00m \u001b[38;5;28;01mas\u001b[39;00m \u001b[38;5;21;01mnp\u001b[39;00m\n\u001b[0;32m----> 2\u001b[0m \u001b[38;5;28;01mimport\u001b[39;00m \u001b[38;5;21;01mpsycopg2\u001b[39;00m\n\u001b[1;32m      4\u001b[0m \u001b[38;5;66;03m# Connect to your PostgreSQL database\u001b[39;00m\n\u001b[1;32m      5\u001b[0m conn \u001b[38;5;241m=\u001b[39m psycopg2\u001b[38;5;241m.\u001b[39mconnect(\n\u001b[1;32m      6\u001b[0m     dbname\u001b[38;5;241m=\u001b[39m\u001b[38;5;124m\"\u001b[39m\u001b[38;5;124myour_dbname\u001b[39m\u001b[38;5;124m\"\u001b[39m,\n\u001b[1;32m      7\u001b[0m     user\u001b[38;5;241m=\u001b[39m\u001b[38;5;124m\"\u001b[39m\u001b[38;5;124myour_username\u001b[39m\u001b[38;5;124m\"\u001b[39m,\n\u001b[0;32m   (...)\u001b[0m\n\u001b[1;32m     10\u001b[0m     port\u001b[38;5;241m=\u001b[39m\u001b[38;5;124m\"\u001b[39m\u001b[38;5;124myour_port\u001b[39m\u001b[38;5;124m\"\u001b[39m\n\u001b[1;32m     11\u001b[0m )\n",
      "\u001b[0;31mModuleNotFoundError\u001b[0m: No module named 'psycopg2'"
     ]
    }
   ],
   "source": [
    "import numpy as np\n",
    "import psycopg2\n",
    "\n",
    "# Connect to your PostgreSQL database\n",
    "conn = psycopg2.connect(\n",
    "    dbname=\"your_dbname\",\n",
    "    user=\"your_username\",\n",
    "    password=\"your_password\",\n",
    "    host=\"your_host\",\n",
    "    port=\"your_port\"\n",
    ")\n",
    "cur = conn.cursor()\n",
    "\n",
    "# Given score array and file_names list\n",
    "score = np.array([8.670e+02, 3.000e+00, 2.000e+00, 2.979e+03, 3.000e+00, 0.000e+00, 0.000e+00, 0.000e+00, 3.000e+00, 6.000e+00, 2.000e+00, 1.000e+00, 8.000e+00, 6.000e+00, 3.890e+02, 3.000e+00, 1.000e+00, 0.000e+00])\n",
    "file_names = ['austen-emma.txt', 'austen-persuasion.txt', 'austen-sense.txt', 'bible-kjv.txt', 'blake-poems.txt', 'bryant-stories.txt', 'burgess-busterbrown.txt', 'carroll-alice.txt', 'chesterton-ball.txt', 'chesterton-brown.txt', 'chesterton-thursday.txt', 'edgeworth-parents.txt', 'melville-moby_dick.txt', 'milton-paradise.txt', 'shakespeare-caesar.txt', 'shakespeare-hamlet.txt', 'shakespeare-macbeth.txt', 'whitman-leaves.txt']\n",
    "\n",
    "# Normalize the scores to a percentage scale\n",
    "normalized_scores = (score / np.sum(score)) * 100\n",
    "\n",
    "# Create a dictionary mapping file names to normalized scores\n",
    "file_normalized_score_mapping = {file_names[i]: normalized_scores[i] for i in range(len(file_names))}\n",
    "\n",
    "# Sort the file names based on normalized scores in descending order\n",
    "sorted_files_by_percentage = sorted(file_normalized_score_mapping, key=file_normalized_score_mapping.get, reverse=True)\n",
    "\n",
    "# Iterate over the sorted file names and retrieve data from the database\n",
    "for file in sorted_files_by_percentage:\n",
    "    cur.execute(\"SELECT * FROM your_table WHERE filename = %s\", (file,))\n",
    "    result = cur.fetchone()\n",
    "    # Process the database result as needed\n",
    "    print(f\"Document: {file} - Normalized Score (%): {file_normalized_score_mapping[file]} - Database Result: {result}\")\n",
    "\n",
    "# Close the cursor and connection\n",
    "cur.close()\n",
    "conn.close()\n",
    "\n",
    "\n",
    "\n",
    "\n",
    "# CREATE TABLE document_scores (\n",
    "#     id SERIAL PRIMARY KEY,\n",
    "#     filename VARCHAR(255),\n",
    "#     score FLOAT\n",
    "# );\n"
   ]
  },
  {
   "cell_type": "code",
   "execution_count": null,
   "metadata": {},
   "outputs": [],
   "source": [
    "import pandas as pd\n",
    "\n",
    "# Creating a sample DataFrame\n",
    "data = {'A': [1, 2, 3, 4, 5],\n",
    "        'B': [10, 20, 30, 40, 50],\n",
    "        'C': [100, 200, 300, 400, 500]}\n",
    "\n",
    "df = pd.DataFrame(data)\n",
    "\n",
    "# Define the threshold\n",
    "threshold = 3\n",
    "\n",
    "# Function to apply the transformation\n",
    "def categorize_value(x):\n",
    "    if x < threshold:\n",
    "        return 'low'\n",
    "    else:\n",
    "        return 'high'\n",
    "\n",
    "# Applying the function to each column of the DataFrame\n",
    "for col in df.columns:\n",
    "    df[col] = df[col].apply(categorize_value)\n",
    "\n",
    "# Printing the updated DataFrame\n",
    "print(df)"
   ]
  }
 ],
 "metadata": {
  "kernelspec": {
   "display_name": "Python 3 (ipykernel)",
   "language": "python",
   "name": "python3"
  },
  "language_info": {
   "codemirror_mode": {
    "name": "ipython",
    "version": 3
   },
   "file_extension": ".py",
   "mimetype": "text/x-python",
   "name": "python",
   "nbconvert_exporter": "python",
   "pygments_lexer": "ipython3",
   "version": "3.10.13"
  },
  "latex_envs": {
   "LaTeX_envs_menu_present": true,
   "autoclose": false,
   "autocomplete": true,
   "bibliofile": "biblio.bib",
   "cite_by": "apalike",
   "current_citInitial": 1,
   "eqLabelWithNumbers": true,
   "eqNumInitial": 1,
   "hotkeys": {
    "equation": "Ctrl-E",
    "itemize": "Ctrl-I"
   },
   "labels_anchors": false,
   "latex_user_defs": false,
   "report_style_numbering": false,
   "user_envs_cfg": false
  }
 },
 "nbformat": 4,
 "nbformat_minor": 4
}
